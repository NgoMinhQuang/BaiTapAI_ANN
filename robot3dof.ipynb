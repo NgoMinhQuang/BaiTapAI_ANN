{
  "nbformat": 4,
  "nbformat_minor": 0,
  "metadata": {
    "colab": {
      "name": "robot3dof.ipynb",
      "provenance": [],
      "authorship_tag": "ABX9TyMOp3jFiNBeSZV2m5Q4nMey",
      "include_colab_link": true
    },
    "kernelspec": {
      "name": "python3",
      "display_name": "Python 3"
    },
    "language_info": {
      "name": "python"
    }
  },
  "cells": [
    {
      "cell_type": "markdown",
      "metadata": {
        "id": "view-in-github",
        "colab_type": "text"
      },
      "source": [
        "<a href=\"https://colab.research.google.com/github/NgoMinhQuang/BaiTapAI_ANN/blob/main/robot3dof.ipynb\" target=\"_parent\"><img src=\"https://colab.research.google.com/assets/colab-badge.svg\" alt=\"Open In Colab\"/></a>"
      ]
    },
    {
      "cell_type": "code",
      "execution_count": 12,
      "metadata": {
        "id": "Q2sxxgrl8NU6"
      },
      "outputs": [],
      "source": [
        "#import library\n",
        "import numpy as np\n",
        "import math as m\n",
        "import csv\n",
        "import pandas as pd\n",
        "import matplotlib.pyplot as plt\n",
        "from numpy.lib.function_base import append\n",
        "from sklearn.model_selection import train_test_split\n",
        "from keras.models import Sequential \n",
        "from keras.layers import Dense, Dropout, Activation\n",
        "from tensorflow.keras.optimizers import Adam"
      ]
    },
    {
      "cell_type": "code",
      "source": [
        "#create data\n",
        "l1 = 50 #length for link 1\n",
        "l2 = 40 #length for link 2\n",
        "l3 = 20 #length for link 3\n",
        "x_train = []\n",
        "y_train = []\n",
        "data=[]\n",
        "a = []\n",
        "for t1 in range(0, 180, 2): \n",
        "  for t2 in range(0, 180, 2):\n",
        "    #forward kinematics\n",
        "    t3 = 90-t2-t1\n",
        "    px = l1*m.cos(m.radians(t1)) + l2*m.cos(m.radians(t1+t2)) + l3*m.cos(m.radians(t1+t2+t3))\n",
        "    py = l1*m.sin(m.radians(t1)) + l2*m.sin(m.radians(t1+t2)) + l3*m.sin(m.radians(t1+t2+t3))\n",
        "    t1 = t1/180.0\n",
        "    t2 = t2/180.0\n",
        "    t3 = (t3+180.0)/360.0\n",
        "    px = (px+110)/220\n",
        "    py = (py+110)/220\n",
        "    a.append(np.array((t1, t2, t3, px, py)))#colletion of variables into an array\n",
        "  data.extend(a)"
      ],
      "metadata": {
        "id": "veoNMHZR8Zdq"
      },
      "execution_count": 2,
      "outputs": []
    },
    {
      "cell_type": "code",
      "source": [
        "#save data to file robot3dof.csv\n",
        "header = ['t1', 't2', 't3', 'Px', 'Py']\n",
        "with open('robot_3_dof.csv', 'w', encoding='UTF8', newline='') as f:\n",
        "    writer = csv.writer(f)\n",
        "    # write the header\n",
        "    writer.writerow(header)\n",
        "    # write multiple rows\n",
        "    writer.writerows(data)"
      ],
      "metadata": {
        "id": "qs4Kz7ds-SLu"
      },
      "execution_count": 13,
      "outputs": []
    },
    {
      "cell_type": "code",
      "source": [
        "#handeling data\n",
        "data=pd.read_csv('robot_3_dof.csv')\n",
        "x=np.array(data.drop(['t1','t2','t3'],axis=1)) #create variable y containing input data is px, py \n",
        "y=np.array(data[['t1','t2','t3',]])  #create variable y containing output data is angle t1, t2\n",
        "x_train,x_test,y_train,y_test = train_test_split(x,y,test_size=0.20)\n",
        "x_train.shape"
      ],
      "metadata": {
        "colab": {
          "base_uri": "https://localhost:8080/"
        },
        "id": "41fYY9_T-agK",
        "outputId": "a540da01-c360-4fa7-c238-612e7e3e1d46"
      },
      "execution_count": 4,
      "outputs": [
        {
          "output_type": "execute_result",
          "data": {
            "text/plain": [
              "(294840, 2)"
            ]
          },
          "metadata": {},
          "execution_count": 4
        }
      ]
    },
    {
      "cell_type": "code",
      "source": [
        "#create model\n",
        "model = Sequential() \n",
        "model.add(Dense(64, activation='relu', input_shape = (2,))) #2 input and 64 noron for layer 1\n",
        "model.add(Dense(32, activation='relu'))#32 noron for layer 2\n",
        "model.add(Dense(16, activation='relu'))#16 noron for layer 3\n",
        "model.add(Dense(3)) #3 output\n",
        "model.summary()"
      ],
      "metadata": {
        "colab": {
          "base_uri": "https://localhost:8080/"
        },
        "id": "54wVTiix-ecO",
        "outputId": "67248eb6-6636-4145-b2bf-559dfd203ff1"
      },
      "execution_count": 5,
      "outputs": [
        {
          "output_type": "stream",
          "name": "stdout",
          "text": [
            "Model: \"sequential\"\n",
            "_________________________________________________________________\n",
            " Layer (type)                Output Shape              Param #   \n",
            "=================================================================\n",
            " dense (Dense)               (None, 64)                192       \n",
            "                                                                 \n",
            " dense_1 (Dense)             (None, 32)                2080      \n",
            "                                                                 \n",
            " dense_2 (Dense)             (None, 16)                528       \n",
            "                                                                 \n",
            " dense_3 (Dense)             (None, 3)                 51        \n",
            "                                                                 \n",
            "=================================================================\n",
            "Total params: 2,851\n",
            "Trainable params: 2,851\n",
            "Non-trainable params: 0\n",
            "_________________________________________________________________\n"
          ]
        }
      ]
    },
    {
      "cell_type": "code",
      "source": [
        "#80% data for train, 20% data for test\n",
        "model.compile(loss='mae', optimizer =Adam(), metrics=['acc']) \n",
        "history = model.fit(x_train, y_train, batch_size = 32, epochs = 10, validation_split = 0.2) "
      ],
      "metadata": {
        "colab": {
          "base_uri": "https://localhost:8080/"
        },
        "id": "pGUh_9Ov-iTh",
        "outputId": "d1c10f74-7ab6-416d-a395-ba492a969084"
      },
      "execution_count": 6,
      "outputs": [
        {
          "output_type": "stream",
          "name": "stdout",
          "text": [
            "Epoch 1/10\n",
            "7371/7371 [==============================] - 18s 2ms/step - loss: 0.0085 - acc: 0.9858 - val_loss: 0.0065 - val_acc: 0.9894\n",
            "Epoch 2/10\n",
            "7371/7371 [==============================] - 17s 2ms/step - loss: 0.0039 - acc: 0.9919 - val_loss: 0.0040 - val_acc: 0.9897\n",
            "Epoch 3/10\n",
            "7371/7371 [==============================] - 16s 2ms/step - loss: 0.0033 - acc: 0.9927 - val_loss: 0.0020 - val_acc: 0.9895\n",
            "Epoch 4/10\n",
            "7371/7371 [==============================] - 17s 2ms/step - loss: 0.0029 - acc: 0.9936 - val_loss: 0.0020 - val_acc: 0.9996\n",
            "Epoch 5/10\n",
            "7371/7371 [==============================] - 16s 2ms/step - loss: 0.0026 - acc: 0.9937 - val_loss: 0.0042 - val_acc: 0.9999\n",
            "Epoch 6/10\n",
            "7371/7371 [==============================] - 16s 2ms/step - loss: 0.0023 - acc: 0.9940 - val_loss: 0.0023 - val_acc: 0.9896\n",
            "Epoch 7/10\n",
            "7371/7371 [==============================] - 16s 2ms/step - loss: 0.0021 - acc: 0.9939 - val_loss: 0.0022 - val_acc: 0.9999\n",
            "Epoch 8/10\n",
            "7371/7371 [==============================] - 16s 2ms/step - loss: 0.0019 - acc: 0.9937 - val_loss: 0.0020 - val_acc: 0.9897\n",
            "Epoch 9/10\n",
            "7371/7371 [==============================] - 15s 2ms/step - loss: 0.0018 - acc: 0.9937 - val_loss: 0.0019 - val_acc: 0.9895\n",
            "Epoch 10/10\n",
            "7371/7371 [==============================] - 17s 2ms/step - loss: 0.0017 - acc: 0.9942 - val_loss: 0.0012 - val_acc: 0.9897\n"
          ]
        }
      ]
    },
    {
      "cell_type": "code",
      "source": [
        "#plot accurracy\n",
        "plt.plot(history.history['acc'])\n",
        "plt.plot(history.history['val_acc'])\n",
        "plt.title('Model accuracy')\n",
        "plt.ylabel('Accuracy')\n",
        "plt.xlabel('Epochs')\n",
        "plt.legend(['Train','Validation'],loc='upper_left')\n",
        "plt.show()\n",
        "\n",
        "#plot error\n",
        "plt.plot(history.history['loss'])\n",
        "plt.plot(history.history['val_loss'])\n",
        "plt.title('Model error')\n",
        "plt.ylabel('error')\n",
        "plt.xlabel('Epochs')\n",
        "plt.show()"
      ],
      "metadata": {
        "colab": {
          "base_uri": "https://localhost:8080/",
          "height": 827
        },
        "id": "KF0sXdj7-pSh",
        "outputId": "f083e7d3-1054-4f62-caf0-d83d162a6f1f"
      },
      "execution_count": 7,
      "outputs": [
        {
          "output_type": "stream",
          "name": "stderr",
          "text": [
            "/usr/local/lib/python3.7/dist-packages/ipykernel_launcher.py:7: MatplotlibDeprecationWarning: Unrecognized location 'upper_left'. Falling back on 'best'; valid locations are\n",
            "\tbest\n",
            "\tupper right\n",
            "\tupper left\n",
            "\tlower left\n",
            "\tlower right\n",
            "\tright\n",
            "\tcenter left\n",
            "\tcenter right\n",
            "\tlower center\n",
            "\tupper center\n",
            "\tcenter\n",
            "This will raise an exception in 3.3.\n",
            "  import sys\n"
          ]
        },
        {
          "output_type": "display_data",
          "data": {
            "text/plain": [
              "<Figure size 432x288 with 1 Axes>"
            ],
            "image/png": "[encoded data removed]"
          },
          "metadata": {
            "needs_background": "light"
          }
        },
        {
          "output_type": "display_data",
          "data": {
            "text/plain": [
              "<Figure size 432x288 with 1 Axes>"
            ],
            "image/png": "[encoded data removed]"
          },
          "metadata": {
            "needs_background": "light"
          }
        }
      ]
    },
    {
      "cell_type": "code",
      "source": [
        "#save model\n",
        "model.save_weights('robot3dof.h5')"
      ],
      "metadata": {
        "id": "KefsxWtA_uXU"
      },
      "execution_count": 8,
      "outputs": []
    },
    {
      "cell_type": "code",
      "source": [
        "px = (float(input(\"Px_desires: \"))+110.0)/220.0\n",
        "py = (float(input(\"Py_desires: \"))+110.0)/220.0\n",
        "test = model.predict([[px,py]])\n",
        "t1 = test[0][0]*180.0\n",
        "t2 = test[0][1]*180.0\n",
        "t3 = test[0][2]*360-180\n",
        "px_predict = l1*m.cos(m.radians(t1)) + l2*m.cos(m.radians(t1+t2)) + l3*m.cos(m.radians(t1+t2+t3))\n",
        "py_predict = l1*m.sin(m.radians(t1)) + l2*m.sin(m.radians(t1+t2)) + l3*m.sin(m.radians(t1+t2+t3))\n",
        "print('Px_pre = ',px_predict,'Py_pre = ',py_predict)\n",
        "print('t1_pre = ',t1,'t2_pre = ',t2,'t3_pre = ',t3)"
      ],
      "metadata": {
        "colab": {
          "base_uri": "https://localhost:8080/"
        },
        "id": "T3fqFUTC_4_3",
        "outputId": "79783fbc-23f7-4516-cf79-e7a604691303"
      },
      "execution_count": 11,
      "outputs": [
        {
          "output_type": "stream",
          "name": "stdout",
          "text": [
            "Px_desires: 90\n",
            "Py_desires: 20\n",
            "Px_pre =  90.17775080442917 Py_pre =  20.750611929938785\n",
            "t1_pre =  0.24442283436655998 t2_pre =  0.5264291167259216 t3_pre =  88.70824813842773\n"
          ]
        }
      ]
    },
    {
      "cell_type": "code",
      "source": [
        ""
      ],
      "metadata": {
        "id": "EkHl1wGc_858"
      },
      "execution_count": null,
      "outputs": []
    }
  ]
}