{
  "nbformat": 4,
  "nbformat_minor": 0,
  "metadata": {
    "colab": {
      "name": "robot2dof.ipynb",
      "provenance": [],
      "collapsed_sections": [],
      "authorship_tag": "ABX9TyN82NP0LRo2/xZXzgYnps1l",
      "include_colab_link": true
    },
    "kernelspec": {
      "name": "python3",
      "display_name": "Python 3"
    },
    "language_info": {
      "name": "python"
    }
  },
  "cells": [
    {
      "cell_type": "markdown",
      "metadata": {
        "id": "view-in-github",
        "colab_type": "text"
      },
      "source": [
        "<a href=\"https://colab.research.google.com/github/NgoMinhQuang/BaiTapAI_ANN/blob/main/robot2dof.ipynb\" target=\"_parent\"><img src=\"https://colab.research.google.com/assets/colab-badge.svg\" alt=\"Open In Colab\"/></a>"
      ]
    },
    {
      "cell_type": "code",
      "execution_count": 12,
      "metadata": {
        "id": "snCD9ccL7ZS1"
      },
      "outputs": [],
      "source": [
        "#import library\n",
        "import numpy as np\n",
        "import pandas as pd\n",
        "from keras.layers import Dense,Dropout\n",
        "from sklearn.linear_model import Perceptron\n",
        "from sklearn.model_selection import train_test_split\n",
        "from sklearn.metrics import accuracy_score\n",
        "import tensorflow as tf\n",
        "from tensorflow.keras.optimizers import Adam\n",
        "from keras.models import Sequential"
      ]
    },
    {
      "cell_type": "code",
      "source": [
        "#create data\n",
        "import matplotlib.pyplot as plt\n",
        "import math\n",
        "import csv\n",
        "import numpy as np\n",
        "u=[]\n",
        "z=[]\n",
        "t1=np.arange(0,180.1,1)\n",
        "t2=np.arange(0,180.1,1)\n",
        "for i in t1:\n",
        "\n",
        "  for j in t2:\n",
        "    x=50*math.cos(math.radians(i))+40*math.cos(math.radians(i+j))\n",
        "    y=50*math.sin(math.radians(i))+40*math.sin(math.radians(i+j))\n",
        "    \n",
        "    z.append(np.array((i,j,x,y)))\n",
        "  u.extend(z)"
      ],
      "metadata": {
        "id": "3gM57Eqi7jPu"
      },
      "execution_count": 13,
      "outputs": []
    },
    {
      "cell_type": "code",
      "source": [
        "header = ['anpha', 'beta', 'x', 'y']\n",
        "with open('robot_2b.csv', 'w', encoding='UTF8', newline='') as f:\n",
        "    writer = csv.writer(f)\n",
        "\n",
        "    # write the header\n",
        "    writer.writerow(header)\n",
        "\n",
        "    # write multiple rows\n",
        "    writer.writerows(u)"
      ],
      "metadata": {
        "id": "XYT6RFDY7m7l"
      },
      "execution_count": 3,
      "outputs": []
    },
    {
      "cell_type": "code",
      "source": [
        "#data processing\n",
        "import pandas as pd\n",
        "data = pd.read_csv('robot_2b.csv')\n",
        "data.shape\n",
        "numpy_dataset = data.values\n",
        "y=numpy_dataset[:,:2]/180.0\n",
        "x=(numpy_dataset[:,2:]+90)/180.0\n",
        "x_train,x_test,y_train,y_test = train_test_split(x,y,test_size=0.20)"
      ],
      "metadata": {
        "id": "tNb3Uo7Y7nt_"
      },
      "execution_count": 14,
      "outputs": []
    },
    {
      "cell_type": "code",
      "source": [
        "print(\"Shape of data is: \",x_train.shape)\n",
        "print(\"Shape of data is: \",y_train.shape)"
      ],
      "metadata": {
        "colab": {
          "base_uri": "https://localhost:8080/"
        },
        "id": "KM1K-cs57v06",
        "outputId": "79d7dbba-a802-45c8-be2a-fd1baa02fb1f"
      },
      "execution_count": 5,
      "outputs": [
        {
          "output_type": "stream",
          "name": "stdout",
          "text": [
            "Shape of data is:  (2385000, 2)\n",
            "Shape of data is:  (2385000, 2)\n"
          ]
        }
      ]
    },
    {
      "cell_type": "code",
      "source": [
        "#train model\n",
        "model = Sequential() \n",
        "model.add(Dense(128, activation='relu', input_shape = (2,))) \n",
        "model.add(Dense(64, activation='relu'))\n",
        "model.add(Dense(32, activation='relu'))\n",
        "model.add(Dense(2))\n",
        "model.summary()"
      ],
      "metadata": {
        "colab": {
          "base_uri": "https://localhost:8080/"
        },
        "id": "uPbpNMV87zDO",
        "outputId": "fe7e6031-31f2-4fee-e7ff-b889fd3eb21a"
      },
      "execution_count": 15,
      "outputs": [
        {
          "output_type": "stream",
          "name": "stdout",
          "text": [
            "Model: \"sequential_1\"\n",
            "_________________________________________________________________\n",
            " Layer (type)                Output Shape              Param #   \n",
            "=================================================================\n",
            " dense_4 (Dense)             (None, 128)               384       \n",
            "                                                                 \n",
            " dense_5 (Dense)             (None, 64)                8256      \n",
            "                                                                 \n",
            " dense_6 (Dense)             (None, 32)                2080      \n",
            "                                                                 \n",
            " dense_7 (Dense)             (None, 2)                 66        \n",
            "                                                                 \n",
            "=================================================================\n",
            "Total params: 10,786\n",
            "Trainable params: 10,786\n",
            "Non-trainable params: 0\n",
            "_________________________________________________________________\n"
          ]
        }
      ]
    },
    {
      "cell_type": "code",
      "source": [
        "model.compile(loss='mae', optimizer =Adam(), metrics=['acc'])\n",
        "history = model.fit(x_train, y_train, batch_size = 32, epochs = 5, validation_split = 0.2)"
      ],
      "metadata": {
        "colab": {
          "base_uri": "https://localhost:8080/"
        },
        "id": "KdHUoga674Kk",
        "outputId": "7776c5be-a6f8-4e05-f402-2d4c219241fe"
      },
      "execution_count": 7,
      "outputs": [
        {
          "output_type": "stream",
          "name": "stdout",
          "text": [
            "Epoch 1/5\n",
            "59625/59625 [==============================] - 153s 3ms/step - loss: 0.0106 - acc: 0.9777 - val_loss: 0.0066 - val_acc: 0.9878\n",
            "Epoch 2/5\n",
            "59625/59625 [==============================] - 151s 3ms/step - loss: 0.0063 - acc: 0.9857 - val_loss: 0.0038 - val_acc: 0.9901\n",
            "Epoch 3/5\n",
            "59625/59625 [==============================] - 152s 3ms/step - loss: 0.0053 - acc: 0.9878 - val_loss: 0.0045 - val_acc: 0.9854\n",
            "Epoch 4/5\n",
            "59625/59625 [==============================] - 149s 2ms/step - loss: 0.0047 - acc: 0.9889 - val_loss: 0.0032 - val_acc: 0.9914\n",
            "Epoch 5/5\n",
            "59625/59625 [==============================] - 150s 3ms/step - loss: 0.0044 - acc: 0.9895 - val_loss: 0.0032 - val_acc: 0.9876\n"
          ]
        }
      ]
    },
    {
      "cell_type": "code",
      "source": [
        "#consulation\n",
        "plt.plot(history.history['acc'])\n",
        "plt.plot(history.history['val_acc'])\n",
        "plt.title('model accuracy')\n",
        "plt.ylabel('accuracy')\n",
        "plt.xlabel('epoch')\n",
        "plt.legend(['train','validation'],loc='upper_left')\n",
        "plt.show()"
      ],
      "metadata": {
        "colab": {
          "base_uri": "https://localhost:8080/",
          "height": 549
        },
        "id": "5uICGFSh79U0",
        "outputId": "a3378a9f-db2d-4beb-cdfa-322a031a0bdb"
      },
      "execution_count": 16,
      "outputs": [
        {
          "output_type": "stream",
          "name": "stderr",
          "text": [
            "/usr/local/lib/python3.7/dist-packages/ipykernel_launcher.py:7: MatplotlibDeprecationWarning: Unrecognized location 'upper_left'. Falling back on 'best'; valid locations are\n",
            "\tbest\n",
            "\tupper right\n",
            "\tupper left\n",
            "\tlower left\n",
            "\tlower right\n",
            "\tright\n",
            "\tcenter left\n",
            "\tcenter right\n",
            "\tlower center\n",
            "\tupper center\n",
            "\tcenter\n",
            "This will raise an exception in 3.3.\n",
            "  import sys\n"
          ]
        },
        {
          "output_type": "display_data",
          "data": {
            "text/plain": [
              "<Figure size 432x288 with 1 Axes>"
            ],
            "image/png": "[encoded data removed]"
          },
          "metadata": {
            "needs_background": "light"
          }
        }
      ]
    },
    {
      "cell_type": "code",
      "source": [
        "#test\n",
        "Px_test_train = (0+90)/180.0\n",
        "Py_test_train = (90+90)/180.0\n",
        "print(Px_test_train,Py_test_train)\n",
        "test = model.predict([[Px_test_train,Py_test_train]])\n",
        "t1 = test[0][0]*180\n",
        "t2 = test[0][1]*180\n",
        "x_1=50*math.cos(math.radians(t1))+40*math.cos(math.radians(t1+t2))\n",
        "y_1=50*math.sin(math.radians(t1))+40*math.sin(math.radians(t1+t2))\n",
        "print('x = ',x_1,'y = ',y_1)\n",
        "print(t1,t2)"
      ],
      "metadata": {
        "colab": {
          "base_uri": "https://localhost:8080/"
        },
        "id": "2BftHQ8Y_GjN",
        "outputId": "b8180355-5d6a-4c53-d2de-30e811a5800f"
      },
      "execution_count": 17,
      "outputs": [
        {
          "output_type": "stream",
          "name": "stdout",
          "text": [
            "0.5 1.0\n",
            "x =  87.86394861542789 y =  4.189901900603404\n",
            "13.631959855556488 -24.57644283771515\n"
          ]
        }
      ]
    },
    {
      "cell_type": "code",
      "source": [
        "#save model\n",
        "model.save('Robot2dof.h5')"
      ],
      "metadata": {
        "id": "yzFsX2_X_PBW"
      },
      "execution_count": null,
      "outputs": []
    },
    {
      "cell_type": "code",
      "source": [
        ""
      ],
      "metadata": {
        "id": "S-ubT9ku_Z1D"
      },
      "execution_count": null,
      "outputs": []
    }
  ]
}